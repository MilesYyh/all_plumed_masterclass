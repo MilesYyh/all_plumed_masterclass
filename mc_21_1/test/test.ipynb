{
 "cells": [
  {
   "cell_type": "code",
   "execution_count": 3,
   "metadata": {},
   "outputs": [
    {
     "name": "stderr",
     "output_type": "stream",
     "text": [
      "mkdir: cannot create directory ‘Exercise-1’: File exists\n"
     ]
    },
    {
     "name": "stdout",
     "output_type": "stream",
     "text": [
      "plumed.dat\n",
      "/data/store-data/yeyh/plumed_masterclass/masterclass-21-1/test/Exercise-1\n"
     ]
    }
   ],
   "source": [
    "%%bash\n",
    "# Exercise 1\n",
    "# create directory for this exercise\n",
    "mkdir Exercise-1; cd Exercise-1\n",
    "# create PLUMED input file\n",
    "cat > \"plumed.dat\" << EOF\n",
    "# Compute gyration radius on CA atoms of the first 40 N-terminal residues:\n",
    "r: GYRATION ATOMS=5,22,37,54,66,73,83,100,111,123,137,151,165,177,187,194,205,220,234,258,276,288,305,315,328,347,358,369,381,393,404,421,434,445,456,466,488,500,521,540\n",
    "\n",
    "# Compute distance between CA atoms of residues 1 and 40\n",
    "d: DISTANCE ATOMS=5,540\n",
    "\n",
    "# Print the two collective variables on COLVAR file every step\n",
    "PRINT ARG=r,d FILE=COLVAR STRIDE=1\n",
    "EOF\n",
    "\n",
    "# run the driver\n",
    "# plumed driver --plumed plumed.dat --mf_xtc ../data/5-HT1B.xtc\n",
    "ls\n",
    "pwd"
   ]
  },
  {
   "cell_type": "code",
   "execution_count": null,
   "metadata": {},
   "outputs": [],
   "source": []
  },
  {
   "cell_type": "code",
   "execution_count": null,
   "metadata": {},
   "outputs": [],
   "source": []
  },
  {
   "cell_type": "code",
   "execution_count": null,
   "metadata": {},
   "outputs": [],
   "source": []
  }
 ],
 "metadata": {
  "kernelspec": {
   "display_name": "miles",
   "language": "python",
   "name": "python3"
  },
  "language_info": {
   "codemirror_mode": {
    "name": "ipython",
    "version": 3
   },
   "file_extension": ".py",
   "mimetype": "text/x-python",
   "name": "python",
   "nbconvert_exporter": "python",
   "pygments_lexer": "ipython3",
   "version": "3.8.18"
  }
 },
 "nbformat": 4,
 "nbformat_minor": 2
}
